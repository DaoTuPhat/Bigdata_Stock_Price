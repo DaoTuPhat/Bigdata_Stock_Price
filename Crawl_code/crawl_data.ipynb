{
 "cells": [
  {
   "cell_type": "code",
   "execution_count": null,
   "metadata": {},
   "outputs": [],
   "source": [
    "from vnstock import Listing\n",
    "from vnstock import Quote\n",
    "import datetime as dt\n",
    "import os\n",
    "import time\n",
    "\n",
    "listing = Listing(source='VCI')\n",
    "data = listing.all_symbols().symbol.tolist()\n",
    "\n",
    "os.makedirs('./datackvn', exist_ok=True)\n",
    "\n",
    "def load_data_vnstock(ticker='VCI', start_date='1900-01-01'):\n",
    "    time = dt.datetime.now()\n",
    "    end_date = time.strftime(\"%Y-%m-%d\")\n",
    "    file_to_save = './datackvn/stock_market_data-{}_{}.csv'.format(ticker, end_date)\n",
    "    \n",
    "    if not os.path.exists(file_to_save):\n",
    "        try:\n",
    "            quote = Quote(symbol=ticker, source='VCI')\n",
    "            df = quote.history(start=start_date, end=end_date, interval='1D')\n",
    "            if df.empty:\n",
    "                print(f\"Không tìm thấy dữ liệu cho mã {ticker}.\")\n",
    "            df = df.sort_values(by='time', ascending=False)\n",
    "            df.columns = ['Date', 'Open', 'High', 'Low', 'Close', 'Volume']\n",
    "            df.to_csv(file_to_save)\n",
    "\n",
    "        except Exception as e:\n",
    "            print(f\"Lỗi khi tải dữ liệu cho {ticker}: {e}\")\n",
    "            \n",
    "    else:\n",
    "        print(f'File đã tồn tại.')\n",
    "\n",
    "\n",
    "for i in range(0, len(data), 1):\n",
    "    load_data_vnstock(ticker=data[i])\n",
    "    time.sleep(0.4)\n",
    "    print(f\"Dữ liệu thứ {i} - {data[i]} đã được xử lý.\\n\")"
   ]
  }
 ],
 "metadata": {
  "kernelspec": {
   "display_name": "bigdata",
   "language": "python",
   "name": "python3"
  },
  "language_info": {
   "codemirror_mode": {
    "name": "ipython",
    "version": 3
   },
   "file_extension": ".py",
   "mimetype": "text/x-python",
   "name": "python",
   "nbconvert_exporter": "python",
   "pygments_lexer": "ipython3",
   "version": "3.9.23"
  }
 },
 "nbformat": 4,
 "nbformat_minor": 2
}
